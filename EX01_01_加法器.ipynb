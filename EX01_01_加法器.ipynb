{
  "nbformat": 4,
  "nbformat_minor": 0,
  "metadata": {
    "colab": {
      "provenance": [],
      "authorship_tag": "ABX9TyNxGKa6F2yUvG05IC39Snc8",
      "include_colab_link": true
    },
    "kernelspec": {
      "name": "python3",
      "display_name": "Python 3"
    },
    "language_info": {
      "name": "python"
    }
  },
  "cells": [
    {
      "cell_type": "markdown",
      "metadata": {
        "id": "view-in-github",
        "colab_type": "text"
      },
      "source": [
        "<a href=\"https://colab.research.google.com/github/FlyFish0203/flyfish/blob/main/EX01_01_%E5%8A%A0%E6%B3%95%E5%99%A8.ipynb\" target=\"_parent\"><img src=\"https://colab.research.google.com/assets/colab-badge.svg\" alt=\"Open In Colab\"/></a>"
      ]
    },
    {
      "cell_type": "code",
      "execution_count": 4,
      "metadata": {
        "colab": {
          "base_uri": "https://localhost:8080/"
        },
        "id": "OEkewWJ_KbZm",
        "outputId": "8190084c-fa74-4d72-f905-b2ff9fb2fe57"
      },
      "outputs": [
        {
          "output_type": "stream",
          "name": "stdout",
          "text": [
            "2\n",
            "5\n",
            "7\n"
          ]
        }
      ],
      "source": [
        "#取得整數一\n",
        "n1=int(input())\n",
        "n2=int(input())\n",
        "\n",
        "#把整數一和整數二相加\n",
        "tt= n1+n2\n",
        "#輸出結果\n",
        "print(tt)\n"
      ]
    }
  ]
}