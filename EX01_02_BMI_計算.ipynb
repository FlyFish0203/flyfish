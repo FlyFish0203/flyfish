{
  "nbformat": 4,
  "nbformat_minor": 0,
  "metadata": {
    "colab": {
      "provenance": [],
      "authorship_tag": "ABX9TyPL8GXERmyUhpVicl1tAtDZ",
      "include_colab_link": true
    },
    "kernelspec": {
      "name": "python3",
      "display_name": "Python 3"
    },
    "language_info": {
      "name": "python"
    }
  },
  "cells": [
    {
      "cell_type": "markdown",
      "metadata": {
        "id": "view-in-github",
        "colab_type": "text"
      },
      "source": [
        "<a href=\"https://colab.research.google.com/github/FlyFish0203/flyfish/blob/main/EX01_02_BMI_%E8%A8%88%E7%AE%97.ipynb\" target=\"_parent\"><img src=\"https://colab.research.google.com/assets/colab-badge.svg\" alt=\"Open In Colab\"/></a>"
      ]
    },
    {
      "cell_type": "code",
      "execution_count": null,
      "metadata": {
        "colab": {
          "base_uri": "https://localhost:8080/"
        },
        "id": "QLgPEZe8Kgie",
        "outputId": "4e55a708-2e74-4e11-dd66-daeb854c96d9"
      },
      "outputs": [
        {
          "output_type": "stream",
          "name": "stdout",
          "text": [
            "hight(cm):170\n",
            "weight(kg):40\n",
            "BMI 13.8\n"
          ]
        }
      ],
      "source": [
        "ht=float(input('hight(cm):'))\n",
        "wt=float(input('weight(kg):'))\n",
        "bmi=wt/(ht/100)**2\n",
        "print('BMI',round(bmi,1))"
      ]
    }
  ]
}