{
  "nbformat": 4,
  "nbformat_minor": 0,
  "metadata": {
    "colab": {
      "provenance": [],
      "authorship_tag": "ABX9TyOjQ6osw8izOmXpn6Ji74nR",
      "include_colab_link": true
    },
    "kernelspec": {
      "name": "python3",
      "display_name": "Python 3"
    },
    "language_info": {
      "name": "python"
    }
  },
  "cells": [
    {
      "cell_type": "markdown",
      "metadata": {
        "id": "view-in-github",
        "colab_type": "text"
      },
      "source": [
        "<a href=\"https://colab.research.google.com/github/FlyFish0203/flyfish/blob/main/ex02_05.ipynb\" target=\"_parent\"><img src=\"https://colab.research.google.com/assets/colab-badge.svg\" alt=\"Open In Colab\"/></a>"
      ]
    },
    {
      "cell_type": "code",
      "execution_count": 1,
      "metadata": {
        "colab": {
          "base_uri": "https://localhost:8080/"
        },
        "id": "MfIRIgGxU7QC",
        "outputId": "c147789c-3dee-4574-bdef-bf22de5dc45f"
      },
      "outputs": [
        {
          "output_type": "execute_result",
          "data": {
            "text/plain": [
              "200"
            ]
          },
          "metadata": {},
          "execution_count": 1
        }
      ],
      "source": [
        "import requests\n",
        "from bs4 import BeautifulSoup\n",
        "\n",
        "url='https://www.ptt.cc/bbs/Movie/index.html'\n",
        "response=requests.get(url)\n",
        "response.status_code"
      ]
    },
    {
      "cell_type": "code",
      "source": [
        "soup=BeautifulSoup(response.text,'lxml')\n",
        "soup.title"
      ],
      "metadata": {
        "colab": {
          "base_uri": "https://localhost:8080/"
        },
        "id": "RpFticLsVcFr",
        "outputId": "f850fb12-581a-4708-e7e0-22e0a0e3a547"
      },
      "execution_count": 2,
      "outputs": [
        {
          "output_type": "execute_result",
          "data": {
            "text/plain": [
              "<title>看板 movie 文章列表 - 批踢踢實業坊</title>"
            ]
          },
          "metadata": {},
          "execution_count": 2
        }
      ]
    },
    {
      "cell_type": "code",
      "source": [
        "for atcl in soup.find_all('div',class_='r-ent'):\n",
        "  ttle=atcl.find('div',class_='title').a.text\n",
        "  href='https://www.ptt.cc'+atcl.find('div',class_='title').a.get('href')\n",
        "  date=atcl.find('div',class_='date').text\n",
        "  print(date,href,ttle)"
      ],
      "metadata": {
        "colab": {
          "base_uri": "https://localhost:8080/"
        },
        "id": "uhmJNrczVmlM",
        "outputId": "15312362-6cc6-4e0e-869f-32bceaf1e18f"
      },
      "execution_count": 4,
      "outputs": [
        {
          "output_type": "stream",
          "name": "stdout",
          "text": [
            " 3/25 https://www.ptt.cc/bbs/movie/M.1742882992.A.C16.html [請益] 月老 原著比電影好看很多嗎?\n",
            " 3/25 https://www.ptt.cc/bbs/movie/M.1742883654.A.D09.html [新聞] 星際寶貝選角太白爭議\n",
            " 3/25 https://www.ptt.cc/bbs/movie/M.1742885304.A.3BD.html [討論] 你最喜歡王家衛東邪西毒的哪個角色?\n",
            " 3/25 https://www.ptt.cc/bbs/movie/M.1742887173.A.C86.html [情報] 《迷宮裡的魔術師》9月日本上映\n",
            " 9/04 https://www.ptt.cc/bbs/movie/M.1630756788.A.1FE.html [公告] 電影板板規 2022/12/5\n",
            " 9/15 https://www.ptt.cc/bbs/movie/M.1694784041.A.89F.html [公告] 禁政治版規 及 投票結果\n"
          ]
        }
      ]
    },
    {
      "cell_type": "code",
      "source": [
        "'https://www.ptt.cc' + soup.find_all('a',class_='btn wide')[1].get('href')"
      ],
      "metadata": {
        "colab": {
          "base_uri": "https://localhost:8080/",
          "height": 36
        },
        "id": "dNh0IrSpWboS",
        "outputId": "5318730b-e168-4b42-8f54-aa1e23c03c57"
      },
      "execution_count": 5,
      "outputs": [
        {
          "output_type": "execute_result",
          "data": {
            "text/plain": [
              "'https://www.ptt.cc/bbs/movie/index10542.html'"
            ],
            "application/vnd.google.colaboratory.intrinsic+json": {
              "type": "string"
            }
          },
          "metadata": {},
          "execution_count": 5
        }
      ]
    },
    {
      "cell_type": "code",
      "source": [
        "def get_articles(url):\n",
        "  response=requests.get(url)\n",
        "  soup=BeautifulSoup(response.text,'lxml')\n",
        "  for atcl in soup.find_all('div',class_='r-ent'):\n",
        "    if atcl.find('div',class_='title').a:\n",
        "      ttle=atcl.find('div',class_='title').a.text\n",
        "      href='https://www.ptt.cc'+atcl.find('div',class_='title').a.get('href')\n",
        "    else:\n",
        "      ttle=atcl.find('div',class_='title').text.strip()\n",
        "      href=''\n",
        "    date=atcl.find('div',class_='date').text\n",
        "    print(date,href,ttle)\n",
        "  url='https://www.ptt.cc'+soup.find_all('a',class_='btn wide')[1].get('href')\n",
        "  return url\n",
        "\n",
        "url='https://www.ptt.cc/bbs/Movie/index.html'\n",
        "for i in range(5):\n",
        "  url=get_articles(url)\n",
        ""
      ],
      "metadata": {
        "colab": {
          "base_uri": "https://localhost:8080/"
        },
        "id": "4nHcslNYYAuG",
        "outputId": "0ef83bb7-8689-4e27-81a7-8b09b513af38"
      },
      "execution_count": 6,
      "outputs": [
        {
          "output_type": "stream",
          "name": "stdout",
          "text": [
            " 3/25 https://www.ptt.cc/bbs/movie/M.1742882992.A.C16.html [請益] 月老 原著比電影好看很多嗎?\n",
            " 3/25 https://www.ptt.cc/bbs/movie/M.1742883654.A.D09.html [新聞] 星際寶貝選角太白爭議\n",
            " 3/25 https://www.ptt.cc/bbs/movie/M.1742885304.A.3BD.html [討論] 你最喜歡王家衛東邪西毒的哪個角色?\n",
            " 3/25 https://www.ptt.cc/bbs/movie/M.1742887173.A.C86.html [情報] 《迷宮裡的魔術師》9月日本上映\n",
            " 9/04 https://www.ptt.cc/bbs/movie/M.1630756788.A.1FE.html [公告] 電影板板規 2022/12/5\n",
            " 9/15 https://www.ptt.cc/bbs/movie/M.1694784041.A.89F.html [公告] 禁政治版規 及 投票結果\n",
            " 3/24 https://www.ptt.cc/bbs/movie/M.1742826405.A.F9F.html [好慢雷]  Mikey 17\n",
            " 3/24 https://www.ptt.cc/bbs/movie/M.1742826519.A.D95.html [新聞] 大阪亞洲影展 「我家的事」4台灣演員同獲藥師真珠獎\n",
            " 3/24 https://www.ptt.cc/bbs/movie/M.1742828958.A.3FB.html Re: [討論] 白雪公主該給誰演\n",
            " 3/25  (本文已被刪除) [XDGEE]\n",
            " 3/25 https://www.ptt.cc/bbs/movie/M.1742833366.A.CD3.html [新聞] 新版《惡靈古堡》真人電影劇情曝光！主角\n",
            " 3/25 https://www.ptt.cc/bbs/movie/M.1742833522.A.5C4.html [新聞] 伊莉莎白歐森想扮「老年版」緋紅女巫！喊\n",
            " 3/25 https://www.ptt.cc/bbs/movie/M.1742836118.A.D8B.html [討論] 強納森梅傑斯「雜誌夢」爛番茄81%\n",
            " 3/25 https://www.ptt.cc/bbs/movie/M.1742838281.A.3D3.html [討論] 變形金剛 萬獸崛起 \n",
            " 3/25 https://www.ptt.cc/bbs/movie/M.1742848612.A.7D0.html [超好雷] 特洛伊：木馬屠城\n",
            " 3/25 https://www.ptt.cc/bbs/movie/M.1742861864.A.E08.html [討論] 伊麗莎白歐森說她不會演復5復6\n",
            " 3/25 https://www.ptt.cc/bbs/movie/M.1742868018.A.5A0.html [討論] 關於進電影院這回事\n",
            " 3/25 https://www.ptt.cc/bbs/movie/M.1742868930.A.2AC.html Re: [討論] 白雪公主該給誰演\n",
            " 3/25 https://www.ptt.cc/bbs/movie/M.1742869316.A.EC6.html [新聞] 全新重啟版《神鬼傳奇》正式開拍 \n",
            " 3/25 https://www.ptt.cc/bbs/movie/M.1742869431.A.FB6.html [新聞] 漫威MCU宇宙第七階段預計推出的四部電影\n",
            " 3/25 https://www.ptt.cc/bbs/movie/M.1742869791.A.110.html [請益] 給我一首琴的時間 預告裡的英文歌是?\n",
            " 3/25 https://www.ptt.cc/bbs/movie/M.1742869993.A.4A0.html Re: [討論] 變形金剛 萬獸崛起 \n",
            " 3/25 https://www.ptt.cc/bbs/movie/M.1742876834.A.2EF.html [討論] 迪士尼公主哪個算是成功真人化？\n",
            " 3/25 https://www.ptt.cc/bbs/movie/M.1742879077.A.5FA.html [新聞] 無懼膚色爭議 《白雪公主》穩坐台美票房\n",
            " 3/25 https://www.ptt.cc/bbs/movie/M.1742880200.A.5C0.html [片單] 賺災難財的電影\n",
            " 3/25 https://www.ptt.cc/bbs/movie/M.1742881665.A.04A.html [新聞] 剛獲奧斯卡最佳紀錄片獎 巴勒斯坦導演遇襲後遭以軍逮捕\n",
            " 3/24 https://www.ptt.cc/bbs/movie/M.1742790359.A.D09.html [普雷] 妳是我眼中的蘋果-偶像劇框架的四不像\n",
            " 3/24 https://www.ptt.cc/bbs/movie/M.1742794880.A.0F3.html [新聞] 《白雪公主》真人電影上映！ 爭議一籮筐\n",
            " 3/24 https://www.ptt.cc/bbs/movie/M.1742796445.A.7C9.html [好雷] 《封神第二部：戰火西岐》比想像中有料\n",
            " 3/24 https://www.ptt.cc/bbs/movie/M.1742796508.A.6CA.html [新聞] 約翰卡本特為奉俊昊下部電影配樂\n",
            " 3/24 https://www.ptt.cc/bbs/movie/M.1742801877.A.064.html Re: [贈票] 究竟誰是兇手【無線殺機】北中南搶先看\n",
            " 3/24 https://www.ptt.cc/bbs/movie/M.1742802552.A.693.html [新聞] 觀眾不買單！《白雪公主》首週北美票房\n",
            " 3/24 https://www.ptt.cc/bbs/movie/M.1742804191.A.0CC.html [情報] 天作之合首支中文預告 \n",
            " 3/24 https://www.ptt.cc/bbs/movie/M.1742804334.A.7D0.html [好雷] 【Queer】這種美，是醍醐灌頂的享受\n",
            " 3/24 https://www.ptt.cc/bbs/movie/M.1742804690.A.FBF.html [討論] 真人化電影IMDB分數最後一名\n",
            " 3/24 https://www.ptt.cc/bbs/movie/M.1742805883.A.149.html [普雷]《青春末世物語》體制、地震、成長痛\n",
            " 3/24 https://www.ptt.cc/bbs/movie/M.1742808757.A.BB8.html [討論] 看過最爽的4DX電影\n",
            " 3/24  (本文已被刪除) [XDGEE]\n",
            " 3/24 https://www.ptt.cc/bbs/movie/M.1742818135.A.327.html [新聞] 馬修麥康納支持「征服者康」繼續拍戲！超\n",
            " 3/24 https://www.ptt.cc/bbs/movie/M.1742818206.A.3B8.html [新聞] 《白雪公主》票房創迪士尼新低！勞勃許奈\n",
            " 3/24 https://www.ptt.cc/bbs/movie/M.1742818647.A.9E4.html [新聞] 迪士尼《白雪公主》爆好評！電影上映穩\n",
            " 3/24 https://www.ptt.cc/bbs/movie/M.1742820071.A.B49.html [普雷]《Queer》：老少男同志的中門對狙\n",
            " 3/24 https://www.ptt.cc/bbs/movie/M.1742821966.A.FF2.html [新聞] IMDB評2.2分真人版「白雪公主」\n",
            " 3/24 https://www.ptt.cc/bbs/movie/M.1742822298.A.8F2.html [問片] 想找一種類型的電影\n",
            " 3/24 https://www.ptt.cc/bbs/movie/M.1742824490.A.E4E.html Re: [討論] 看過最爽的4DX電影\n",
            " 3/24 https://www.ptt.cc/bbs/movie/M.1742825277.A.38C.html [討論] 白雪公主該給誰演\n",
            " 3/23 https://www.ptt.cc/bbs/movie/M.1742736798.A.FF8.html [普雷] 白雪公主\n",
            " 3/23 https://www.ptt.cc/bbs/movie/M.1742737781.A.608.html [微好雷] 我們的故事未來待續\n",
            " 3/23 https://www.ptt.cc/bbs/movie/M.1742738301.A.D16.html [好雷] 白雪公主 (1937年版)\n",
            " 3/23 https://www.ptt.cc/bbs/movie/M.1742738632.A.E99.html [大爆雷] 小小的我\n",
            " 3/23 https://www.ptt.cc/bbs/movie/M.1742740720.A.5FA.html [討論] 烏爾善的三部曲成本也太高了吧？\n",
            " 3/23 https://www.ptt.cc/bbs/movie/M.1742741955.A.B1F.html [討論] Felicity Jones 有搞頭嗎\n",
            " 3/23 https://www.ptt.cc/bbs/movie/M.1742742110.A.525.html [普好雷] 給我一首琴的時間-時機的浪漫變奏\n",
            " 3/23 https://www.ptt.cc/bbs/movie/M.1742743911.A.933.html [情報] 3/23 當週12部新片預告+Youtube觀看排行\n",
            " 3/23 https://www.ptt.cc/bbs/movie/M.1742744549.A.D6D.html [好無雷] 【不丹是幸福】沒有比較沒有傷害\n",
            " 3/24 https://www.ptt.cc/bbs/movie/M.1742746631.A.12C.html [好雷] 封神第二部：戰火西岐\n",
            " 3/24 https://www.ptt.cc/bbs/movie/M.1742746938.A.446.html [新聞] 白雪公主首周4300萬美金\n",
            " 3/24 https://www.ptt.cc/bbs/movie/M.1742747464.A.785.html [片單] 請問韓國搞笑片\n",
            " 3/24 https://www.ptt.cc/bbs/movie/M.1742751374.A.FA1.html Re: [討論] 電影院是不是沒落了？\n",
            " 3/24 https://www.ptt.cc/bbs/movie/M.1742753293.A.E60.html [負雷]白雪公主2025電影版觀後感 \n",
            " 3/24 https://www.ptt.cc/bbs/movie/M.1742754841.A.581.html Re: [討論] 電影院是不是沒落了？\n",
            " 3/24 https://www.ptt.cc/bbs/movie/M.1742771690.A.B9E.html [新聞] 1937動畫《白雪公主》、2025電影真人版 \n",
            " 3/24 https://www.ptt.cc/bbs/movie/M.1742778081.A.F5F.html [討論] 演員的肢體語言影響觀影感受\n",
            " 3/24 https://www.ptt.cc/bbs/movie/M.1742785444.A.84E.html [微好雷] 《吸血鬼：諾斯費拉圖》 \n",
            " 3/24 https://www.ptt.cc/bbs/movie/M.1742788129.A.06B.html Re: [討論] 電影院是不是沒落了？\n",
            " 3/24 https://www.ptt.cc/bbs/movie/M.1742790075.A.B25.html [請益] 老片重映的播放格式\n",
            " 3/23 https://www.ptt.cc/bbs/movie/M.1742704684.A.934.html Re: [討論] 電影院是不是沒落了？\n",
            " 3/23 https://www.ptt.cc/bbs/movie/M.1742704843.A.DD1.html [微好雷] 奧黛莎\n",
            " 3/23 https://www.ptt.cc/bbs/movie/M.1742707261.A.2E8.html Re: [討論] 電影院是不是沒落了？\n",
            " 3/23 https://www.ptt.cc/bbs/movie/M.1742711306.A.963.html Re: [討論] 國外白雪公主首映包場\n",
            " 3/23 https://www.ptt.cc/bbs/movie/M.1742711361.A.2BE.html [好雷]封神二:戰火西岐 \n",
            " 3/23 https://www.ptt.cc/bbs/movie/M.1742712745.A.6FF.html [新聞] 2025《白雪公主》靠5大超能力「逆轉勝」\n",
            " 3/23  (本文已被刪除) [dodoro1]\n",
            " 3/23  (本文已被刪除) [dodoro1]\n",
            " 3/23 https://www.ptt.cc/bbs/movie/M.1742714173.A.7DB.html [新聞] 蘋果在串流媒體服務每年虧損超過10億美元\n",
            " 3/23  (本文已被刪除) [Angela]\n",
            " 3/23  (本文已被刪除) [Angela]\n",
            " 3/23 https://www.ptt.cc/bbs/movie/M.1742717107.A.915.html Re: [討論] 電影院是不是沒落了？\n",
            " 3/23 https://www.ptt.cc/bbs/movie/M.1742717149.A.ACF.html [討論] 大家一年看幾部電影？\n",
            " 3/23 https://www.ptt.cc/bbs/movie/M.1742719686.A.C1D.html [片單] 韓國2024推薦\n",
            " 3/23 https://www.ptt.cc/bbs/movie/M.1742722596.A.2BD.html [負雷] 六弄咖啡館什麼大爛片…\n",
            " 3/23 https://www.ptt.cc/bbs/movie/M.1742726638.A.E45.html [請益] YouTube都在黑白雪公主是怎樣\n",
            " 3/23 https://www.ptt.cc/bbs/movie/M.1742727997.A.8D4.html [超好雷] 《青春末世物語》(HAPPYEND)\n",
            " 3/23 https://www.ptt.cc/bbs/movie/M.1742729886.A.24A.html [負雷] 《白雪公主》  毀滅童年的真人災難秀\n",
            " 3/23 https://www.ptt.cc/bbs/movie/M.1742731026.A.DE4.html [好雷] 封神第二部：戰火西岐\n",
            " 3/23 https://www.ptt.cc/bbs/movie/M.1742731732.A.26F.html [負無雷] 大力水手：血腥菠菜\n"
          ]
        }
      ]
    },
    {
      "cell_type": "code",
      "source": [
        "def get_articles(url):\n",
        "  response=requests.get(url)\n",
        "  soup=BeautifulSoup(response.text,'lxml')\n",
        "  for atcl in soup.find_all('div',class_='r-ent'):\n",
        "    if atcl.find('div',class_='title').a:\n",
        "      ttle=atcl.find('div',class_='title').a.text\n",
        "      href='https://www.ptt.cc'+atcl.find('div',class_='title').a.get('href')\n",
        "    else:\n",
        "      ttle=atcl.find('div',class_='title').text.strip()\n",
        "      href=''\n",
        "    date=atcl.find('div',class_='date').text\n",
        "    print(date,href,ttle)\n",
        "  url = 'https://www.ptt.cc'+soup.find_all('a',class_='btn wide')[1].get('href')\n",
        "  return url\n",
        "\n",
        "url='https://www.ptt.cc/bbs/Food/index.html'\n",
        "for i in range(5):\n",
        "  url=get_articles(url)"
      ],
      "metadata": {
        "colab": {
          "base_uri": "https://localhost:8080/"
        },
        "id": "BTckp_N4ZbBg",
        "outputId": "e8c8b32d-4d02-442e-e0ee-3f484ad2492e"
      },
      "execution_count": 7,
      "outputs": [
        {
          "output_type": "stream",
          "name": "stdout",
          "text": [
            " 3/23 https://www.ptt.cc/bbs/Food/M.1742690549.A.5A6.html [食記] 正宗岡山羊肉 新北土城 麻油炒羊肉羊雜湯\n",
            " 3/23 https://www.ptt.cc/bbs/Food/M.1742692135.A.5D5.html [食記] 竹北 日式板前無菜單料理，豪軒\n",
            " 3/23 https://www.ptt.cc/bbs/Food/M.1742695050.A.094.html [食記] 日本東京 HARBS澀谷櫻花舞台店\n",
            " 3/23 https://www.ptt.cc/bbs/Food/M.1742695486.A.EA9.html [食記] 泰國佛統府 After the Rain Coffee\n",
            " 3/23 https://www.ptt.cc/bbs/Food/M.1742702180.A.D4C.html [食記] 澳門。倫敦人酒店-Shake Shack漢堡\n",
            " 3/23 https://www.ptt.cc/bbs/Food/M.1742705372.A.6A7.html [食記] 斗南 榕苑古蹟餐飲\n",
            " 3/23 https://www.ptt.cc/bbs/Food/M.1742709100.A.1A8.html [食記] 東京新宿 AFURI 新宿ルミネ 柚子鹽味拉麵\n",
            " 3/23 https://www.ptt.cc/bbs/Food/M.1742735426.A.EB7.html [食記] 台中 飪室咖哩\n",
            " 3/23 https://www.ptt.cc/bbs/Food/M.1742739508.A.DB2.html [食記] 桃園蘆竹區。許家肉圓\n",
            " 3/23 https://www.ptt.cc/bbs/Food/M.1742739611.A.69C.html [食記] 日本 長崎 長崎車站 中華大八\n",
            " 3/24 https://www.ptt.cc/bbs/Food/M.1742752182.A.C6F.html [請益] 信義區下午就能喝酒吃小菜的地方\n",
            " 3/24 https://www.ptt.cc/bbs/Food/M.1742783430.A.F20.html [食記] 台南 阿龍香腸熟肉 老味道 阿舍菜\n",
            " 3/24 https://www.ptt.cc/bbs/Food/M.1742784937.A.425.html [食記] 昌明豆漿小籠包 新北新莊 香麻辣Q小籠包\n",
            " 3/24 https://www.ptt.cc/bbs/Food/M.1742799570.A.10F.html Fw: [食記] 東京 つばめグリル 多蜜醬紙包燉煮漢堡排\n",
            " 3/24 https://www.ptt.cc/bbs/Food/M.1742808041.A.0BE.html [食記] 桃園 平鎮 松源客家菜館\n",
            " 3/24 https://www.ptt.cc/bbs/Food/M.1742824448.A.FB6.html [食記] 台北 CHA CHA THÉ CUISINE采采食茶\n",
            " 3/24 https://www.ptt.cc/bbs/Food/M.1742829379.A.4FD.html [食記] 桃園 Mellowed Me 美若靡商行 美味甜點店\n",
            " 3/25 https://www.ptt.cc/bbs/Food/M.1742836224.A.B4E.html [食記] 台北 文山 老饒牛肉麵店\n",
            " 3/25 https://www.ptt.cc/bbs/Food/M.1742876273.A.906.html [食記] いづ重 日本京都 醋飯酸香風味淡雅箱壽司\n",
            "12/16 https://www.ptt.cc/bbs/Food/M.1355673582.A.5F7.html [公告] Food板 板規 V3.91\n",
            " 9/28 https://www.ptt.cc/bbs/Food/M.1190944426.A.E6C.html [公告] 發文請在標題加上地區及提供地址電話。^^\n",
            "10/01 https://www.ptt.cc/bbs/Food/M.1128132666.A.0FD.html [公告] 文章被刪除者請洽精華區的資源回收桶\n",
            " 6/04 https://www.ptt.cc/bbs/Food/M.1496532469.A.C36.html [公告] 新增板規22：發文禁附延伸閱讀連結\n",
            " 3/20 https://www.ptt.cc/bbs/Food/M.1742462141.A.778.html [食記] 台中 豐原廟東夜市懶人包，菱角酥/蒜肉飯\n",
            " 3/20 https://www.ptt.cc/bbs/Food/M.1742470166.A.BFE.html [食記] 台南東區 黑家麵館 好吃的涼皮 免費冷飲\n",
            " 3/20 https://www.ptt.cc/bbs/Food/M.1742473819.A.45C.html [食記] 彰化 與咖啡 本事空間設計獨棟美宅\n",
            " 3/20 https://www.ptt.cc/bbs/Food/M.1742473964.A.770.html [食記] 雪梨5間咖啡廳推薦：Single O, Campos \n",
            " 3/20 https://www.ptt.cc/bbs/Food/M.1742479629.A.D2D.html [食記] 基隆市信義區-麵匡匡拉麵食堂 基隆深溪店\n",
            " 3/20 https://www.ptt.cc/bbs/Food/M.1742479758.A.EDC.html [食記] 台北 TIPSY Sparrow\n",
            " 3/20 https://www.ptt.cc/bbs/Food/M.1742480837.A.CBF.html [食記] 桃園中壢區。清牛堂 專業清燉牛肉麵\n",
            " 3/20 https://www.ptt.cc/bbs/Food/M.1742482677.A.C33.html [食記] 羅東 悟饕 台式控肉飯包\n",
            " 3/21 https://www.ptt.cc/bbs/Food/M.1742491464.A.D55.html [食記] 台北 內湖 東引快刀手內湖店\n",
            " 3/21 https://www.ptt.cc/bbs/Food/M.1742515056.A.D30.html [食記] 桃園中壢-多樣和牛吃到飽-和牛涮\n",
            " 3/21 https://www.ptt.cc/bbs/Food/M.1742516450.A.B91.html [食記] 高雄.美濃-阿香的廚房\n",
            " 3/21 https://www.ptt.cc/bbs/Food/M.1742554795.A.AF1.html [食記] 三姐妹餐飲店 基隆仁愛 五味軟絲炸紅燒鰻\n",
            " 3/21 https://www.ptt.cc/bbs/Food/M.1742563372.A.B6B.html [食記] 日本 HARBS 午間套餐\n",
            " 3/21 https://www.ptt.cc/bbs/Food/M.1742566946.A.054.html [食記] 香港 天龍軒 (米其林二星)\n",
            " 3/22 https://www.ptt.cc/bbs/Food/M.1742576568.A.78E.html [食記] 台北 大安 詹記麻辣火鍋(敦南店)\n",
            " 3/22 https://www.ptt.cc/bbs/Food/M.1742608702.A.5D7.html [食記] 東京燒肉 蕃ebisu yoroniku  \n",
            " 3/22 https://www.ptt.cc/bbs/Food/M.1742631341.A.9C4.html [食記] 台中 中區｜敷酒串屋 FU JIU\n",
            " 3/22 https://www.ptt.cc/bbs/Food/M.1742635712.A.94F.html [食記] 桃園。法大炸雞\n",
            " 3/22 https://www.ptt.cc/bbs/Food/M.1742635962.A.A21.html [食記] 炸豬排檍 日本東京 香酥炸豬排搭伍斯特醬\n",
            " 3/22 https://www.ptt.cc/bbs/Food/M.1742655463.A.A04.html [食記] 東京六厘舍|車站地下街~大份量沾麵\n",
            " 3/18 https://www.ptt.cc/bbs/Food/M.1742306794.A.ED2.html [食記] 花蓮 花蓮香扁食 好吃的扁食店\n",
            " 3/18 https://www.ptt.cc/bbs/Food/M.1742308709.A.61A.html [食記] 桃園。中正路無名小吃（貨運小吃）\n",
            " 3/18 https://www.ptt.cc/bbs/Food/M.1742309424.A.1D6.html [食記] 西班牙馬德里 T4清茶達人 珍珠 仙草\n",
            " 3/19 https://www.ptt.cc/bbs/Food/M.1742350058.A.3D2.html [食記] 台中 北區 鮮魚鑫蝦仁飯\n",
            " 3/19  \n",
            " 3/19 https://www.ptt.cc/bbs/Food/M.1742357159.A.A19.html [食記] 熊本 磯丸水產 24小時海鮮燒烤、小火鍋\n",
            " 3/19 https://www.ptt.cc/bbs/Food/M.1742357912.A.DAA.html [食記] 東引 好列豆漿 品嚐特色在地口味的燒餅\n",
            " 3/19 https://www.ptt.cc/bbs/Food/M.1742369404.A.AD7.html [食記] 西門町走過一甲子的超人氣蜂大咖啡\n",
            " 3/19 https://www.ptt.cc/bbs/Food/M.1742379435.A.AF4.html Re: [食記] 台北 張家清真黃牛肉麵館\n",
            " 3/19 https://www.ptt.cc/bbs/Food/M.1742381965.A.9BF.html [食記] 台北 文山 木柵老爹鵝肉專賣店\n",
            " 3/19 https://www.ptt.cc/bbs/Food/M.1742385507.A.E9E.html [食記] 花蓮 液香扁食 最愛最強的花蓮扁食\n",
            " 3/19 https://www.ptt.cc/bbs/Food/M.1742387254.A.547.html [食記] 台北 士林區｜杺日式餐酒館\n",
            " 3/19 https://www.ptt.cc/bbs/Food/M.1742390218.A.200.html [食記] 台中 魚麗共同廚房\n",
            " 3/19 https://www.ptt.cc/bbs/Food/M.1742392470.A.838.html [食記] 蘇媽媽湯圓 台北大安 色彩繽紛綜合甜湯圓\n",
            " 3/19 https://www.ptt.cc/bbs/Food/M.1742395894.A.2E4.html [食記] 美國 北加人氣咖啡Verve Coffee Roasters\n",
            " 3/20 https://www.ptt.cc/bbs/Food/M.1742428245.A.34B.html [食記] 日本高千穗-雞肉好吃又特別-鶏の炭火焼 \n",
            " 3/20 https://www.ptt.cc/bbs/Food/M.1742434318.A.C20.html [廣宣] 新北 平價串燒19元起-柒息地串燒居酒屋\n",
            " 3/20 https://www.ptt.cc/bbs/Food/M.1742441653.A.14F.html [請益] 雙北適合家庭聚餐的餐廳(桌菜為主)\n",
            " 3/20 https://www.ptt.cc/bbs/Food/M.1742449689.A.536.html [食記] 台北中正 華山町餐酒館\n",
            " 3/20 https://www.ptt.cc/bbs/Food/M.1742460087.A.AAA.html [食記] 麵屋高倉二条 日本京都 豚骨魚介牛腸沾麵\n",
            " 3/15 https://www.ptt.cc/bbs/Food/M.1742017593.A.0F0.html [食記] 台中 大里區｜享千葉火鍋 大里店\n",
            " 3/15 https://www.ptt.cc/bbs/Food/M.1742040041.A.67D.html [食記] 台北 曾家豆漿 蛋塔\n",
            " 3/15 https://www.ptt.cc/bbs/Food/M.1742044010.A.74C.html [食記] 桃園中壢區。阿中炒羊肉\n",
            " 3/15 https://www.ptt.cc/bbs/Food/M.1742046323.A.D56.html [食記] 雪梨 8間超人氣Gelato店家心得\n",
            " 3/16 https://www.ptt.cc/bbs/Food/M.1742100651.A.A60.html [食記] 桃園 桃園區｜HOTPOT-BBQ\n",
            " 3/16 https://www.ptt.cc/bbs/Food/M.1742107165.A.BF2.html [食記] 好記食品 新北永和 香氣十足酥鬆松子桃酥\n",
            " 3/16 https://www.ptt.cc/bbs/Food/M.1742119496.A.15B.html [食記] 台北 稻舍食館\n",
            " 3/17 https://www.ptt.cc/bbs/Food/M.1742177266.A.A99.html [食記] 撈月麵館 新北新莊 干貝海鮮叻沙Q麵疙瘩\n",
            " 3/17 https://www.ptt.cc/bbs/Food/M.1742183334.A.B96.html [食記] 基隆仁愛市場 港仔味 超道地且格不貴港料\n",
            " 3/17 https://www.ptt.cc/bbs/Food/M.1742204392.A.633.html [心得] 漢來 島語自助餐 喝酒去\n",
            " 3/17 https://www.ptt.cc/bbs/Food/M.1742212021.A.C17.html [食記] 樂桃機上餐：東京ばな奈カレー \n",
            " 3/17 https://www.ptt.cc/bbs/Food/M.1742214001.A.845.html [食記] 花蓮 練黍叔燒番麥 烤玉米 棒棒\n",
            " 3/17 https://www.ptt.cc/bbs/Food/M.1742220200.A.037.html [食記] 香港 2 Sup\n",
            " 3/17 https://www.ptt.cc/bbs/Food/M.1742223139.A.13C.html [食記] 台北大安—大鼎豬血湯｜名人朝聖四十年豬血湯 沙茶夠味\n",
            " 3/18 https://www.ptt.cc/bbs/Food/M.1742280372.A.049.html [食記] 台北 中山 圓酒まるさけ居酒屋 MARUSAKE IZAKAYA\n",
            " 3/18 https://www.ptt.cc/bbs/Food/M.1742292127.A.5CC.html Fw: [食記] 新竹 曾家餡餅 豬肉/高麗菜/韭菜/紅豆\n",
            " 3/18 https://www.ptt.cc/bbs/Food/M.1742293610.A.20F.html [食記] 宜蘭 五吉小館\n",
            " 3/18 https://www.ptt.cc/bbs/Food/M.1742293961.A.584.html [食記] 虹屋mimi 日本靜岡 酸而開胃鰹魚香大阪燒\n",
            " 3/18 https://www.ptt.cc/bbs/Food/M.1742301960.A.958.html [食記] 甩鍋雞韓式炒雞吃到飽 台中中友店\n",
            " 3/18 https://www.ptt.cc/bbs/Food/M.1742306238.A.197.html [食記] 新竹 高宅 七訪\n",
            " 3/12 https://www.ptt.cc/bbs/Food/M.1741774623.A.582.html Fw: [食記] [後龍] 早稲飯糰 ～蛋餅、煎餃都沒賣了\n",
            " 3/12 https://www.ptt.cc/bbs/Food/M.1741784972.A.7F8.html [食記] 台北 士林區｜杺日式餐酒館\n",
            " 3/12 https://www.ptt.cc/bbs/Food/M.1741787835.A.39B.html [食記] 台北 黑馬小廚\n",
            " 3/13 https://www.ptt.cc/bbs/Food/M.1741799580.A.800.html [食記] 台北市 信義區 永春站 金仙魯肉飯 松山店\n",
            " 3/13 https://www.ptt.cc/bbs/Food/M.1741822919.A.96E.html [食記] 桃園中壢-多樣化早餐帕尼尼-couple好食\n",
            " 3/13 https://www.ptt.cc/bbs/Food/M.1741844896.A.389.html [食記] 花蓮 季之雲 日式家庭小料理\n",
            " 3/13 https://www.ptt.cc/bbs/Food/M.1741846187.A.E46.html [食記] 宜蘭羅東 陳記當歸鴨好吃又便宜\n",
            " 3/13 https://www.ptt.cc/bbs/Food/M.1741854839.A.E42.html [食記] 自家製麵Uruchi 日本東京 香甘順醬油拉麵\n",
            " 3/13 https://www.ptt.cc/bbs/Food/M.1741855180.A.105.html [食記] 桃園中壢區_萃茶風健康餐盒/現萃茶專賣店\n",
            " 3/13 https://www.ptt.cc/bbs/Food/M.1741874753.A.D0B.html [食記] 香港 波記燒臘粉麵+永合成煲仔+生記滷味\n",
            " 3/13 https://www.ptt.cc/bbs/Food/M.1741877397.A.F54.html [食記] 花蓮 至寶軒-精緻粵菜套餐(艾美酒店內)\n",
            " 3/14 https://www.ptt.cc/bbs/Food/M.1741886435.A.F2E.html [食記] 台南市 中西區 落成米糕\n",
            " 3/14 https://www.ptt.cc/bbs/Food/M.1741924785.A.755.html [食記] 台北 大稻埕魯肉飯 試試港韓遊客的愛店\n",
            " 3/14 https://www.ptt.cc/bbs/Food/M.1741932154.A.5FD.html [廣宣] 台北 網路票選新台式火鍋第一-狂一鍋西門\n",
            " 3/14 https://www.ptt.cc/bbs/Food/M.1741945556.A.D76.html [食記] 青島阿欽海鮮水餃 台北大安 吻仔魚水餃\n",
            " 3/14 https://www.ptt.cc/bbs/Food/M.1741950949.A.0E1.html [食記] 桃園機場 烙張清真牛肉麵食館\n",
            " 3/14 https://www.ptt.cc/bbs/Food/M.1741961417.A.BE5.html [食記] 台北 Ad Astra 二訪\n",
            " 3/15 https://www.ptt.cc/bbs/Food/M.1742003883.A.2C9.html [食記] 新巧越南法國麵包 桃園龜山 燒肉火腿雙拼\n",
            " 3/15 https://www.ptt.cc/bbs/Food/M.1742005540.A.951.html [食記] 澳門 官也街-Goat Bakers千層酥皮蛋塔\n",
            " 3/15 https://www.ptt.cc/bbs/Food/M.1742008752.A.AE0.html [轉讓] 3/23（日）11:30 漢來島語 兩位\n"
          ]
        }
      ]
    },
    {
      "cell_type": "code",
      "source": [
        "def get_article(url):\n",
        "  response=requests.get(url,cookies=cookies)\n",
        "  soup=BeautifulSoup(response.text,'lxml')\n",
        "  for atcl in soup.find_all('div',class_='r-ent'):\n",
        "    if atcl.find('div',class_='title').a:\n",
        "      ttle=atcl.find('div',class_='title').a.text\n",
        "      href='https://www.ptt.cc'+atcl.find('div',class_='title').a.get('href')\n",
        "    else:\n",
        "      ttle=atcl.find('div',class_='title').text.strip()\n",
        "      href=''\n",
        "    date=atcl.find('div',class_='date').text\n",
        "    print(date,href,ttle)\n",
        "  url='https://www.ptt.cc'+soup.find_all('a',class_='btn wide')[1].get('href')\n",
        "  return url\n",
        "\n",
        "url='https://www.ptt.cc/bbs/Gossiping/index.html'\n",
        "cookies={'over18':'1'}\n",
        "for i in range(5):\n",
        "  url=get_article(url)"
      ],
      "metadata": {
        "colab": {
          "base_uri": "https://localhost:8080/"
        },
        "id": "fACTNP5GWp-k",
        "outputId": "a7780a8b-aa4e-42af-ff5b-5ded6a7dcfed"
      },
      "execution_count": 8,
      "outputs": [
        {
          "output_type": "stream",
          "name": "stdout",
          "text": [
            " 3/25 https://www.ptt.cc/bbs/Gossiping/M.1742891283.A.7F7.html [新聞] 女住飯店泡裸湯！男員工突闖喊「快出來」\n",
            " 3/25 https://www.ptt.cc/bbs/Gossiping/M.1742891298.A.500.html [問卦] 急！被水泥車壓到還有救嗎？\n",
            " 3/25 https://www.ptt.cc/bbs/Gossiping/M.1742891337.A.E92.html Re: [問卦] 為啥要反對重機上國道??????????????????\n",
            " 3/25 https://www.ptt.cc/bbs/Gossiping/M.1742891362.A.4F6.html Re: [新聞] 日刑事補償最高金額！ 「最長壽死囚」沉\n",
            " 3/25 https://www.ptt.cc/bbs/Gossiping/M.1742891429.A.8F9.html [問卦] 肥宅會穿耳洞嗎\n",
            " 3/25 https://www.ptt.cc/bbs/Gossiping/M.1742891487.A.80A.html [問卦] 當年台海危機，哪裡的房最沒人買\n",
            " 3/25 https://www.ptt.cc/bbs/Gossiping/M.1742891489.A.899.html [問卦] 這樣也算宣傳武統嗎\n",
            " 3/25 https://www.ptt.cc/bbs/Gossiping/M.1742891531.A.5F1.html [問卦] 台灣5G烙賽的主因是啥\n",
            "11/02 https://www.ptt.cc/bbs/Gossiping/M.1730554547.A.41C.html Fw: [公告] 請留意新註冊帳號使用信件詐騙\n",
            " 1/21 https://www.ptt.cc/bbs/Gossiping/M.1737398137.A.644.html [公告] 八卦板板規(2025.01.21)\n",
            " 2/20 https://www.ptt.cc/bbs/Gossiping/M.1740024219.A.1EB.html [公告]  春季大反攻！！八卦板主徵選報名開始捏\n",
            " 3/12 https://www.ptt.cc/bbs/Gossiping/M.1741791500.A.EB6.html Fw: [公告] 請避免與登入1次之帳號進行交易 發錢\n",
            " 3/25 https://www.ptt.cc/bbs/Gossiping/M.1742890267.A.7A6.html [問卦] 高速公路匝道出入口交錯的好處？\n",
            " 3/25 https://www.ptt.cc/bbs/Gossiping/M.1742890370.A.E2B.html [問卦] 白雪公主中文配音為什麼不找白癡公主？\n",
            " 3/25 https://www.ptt.cc/bbs/Gossiping/M.1742890433.A.C2C.html Re: [問卦] 亞亞買好機票了\n",
            " 3/25 https://www.ptt.cc/bbs/Gossiping/M.1742890450.A.0D5.html [新聞] 募款的背叛／建築師控裘振宇過河拆橋　\n",
            " 3/25 https://www.ptt.cc/bbs/Gossiping/M.1742890578.A.782.html Re: [問卦] 大家現在對漲價的容忍力都變高了？\n",
            " 3/25 https://www.ptt.cc/bbs/Gossiping/M.1742890674.A.69A.html Re: [問卦]  我不認同你的觀點 但是我誓死捍衛你\n",
            " 3/25 https://www.ptt.cc/bbs/Gossiping/M.1742890716.A.BE1.html [新聞] 現代汽車對美追加投資6930億元 採購天然\n",
            " 3/25 https://www.ptt.cc/bbs/Gossiping/M.1742890804.A.0BE.html Re: [新聞] 快訊／八炯側攻失敗！衝陸配「亞亞」記\n",
            " 3/25 https://www.ptt.cc/bbs/Gossiping/M.1742890870.A.B4A.html [新聞] 日刑事補償最高金額！ 「最長壽死囚」沉\n",
            " 3/25 https://www.ptt.cc/bbs/Gossiping/M.1742890921.A.C22.html [問卦] 認為釣魚台屬於日本的日本人\n",
            " 3/25 https://www.ptt.cc/bbs/Gossiping/M.1742890933.A.E46.html Re: [問卦] 大家現在對漲價的容忍力都變高了？\n",
            " 3/25 https://www.ptt.cc/bbs/Gossiping/M.1742890960.A.C66.html Re: [問卦] 言論自由最輝煌的年代是2008~2016年\n",
            " 3/25 https://www.ptt.cc/bbs/Gossiping/M.1742891002.A.186.html [問卦] 歐洲治安差又髒？\n",
            " 3/25 https://www.ptt.cc/bbs/Gossiping/M.1742891031.A.1EA.html Re: [問卦] 亞亞買好機票了\n",
            " 3/25 https://www.ptt.cc/bbs/Gossiping/M.1742891059.A.5BC.html [問卦] 有一說一 步兵空曠處遇到無人機放棄抵抗?\n",
            " 3/25 https://www.ptt.cc/bbs/Gossiping/M.1742891065.A.CEA.html [問卦] 亞亞回中國會被稱為民族英雄嗎？\n",
            " 3/25 https://www.ptt.cc/bbs/Gossiping/M.1742891129.A.198.html [問卦] 讚安諾要怎麼cp值高取得\n",
            " 3/25 https://www.ptt.cc/bbs/Gossiping/M.1742891150.A.C60.html [問卦] 亞亞要離開台灣前想送她什麼話？\n",
            " 3/25 https://www.ptt.cc/bbs/Gossiping/M.1742891150.A.280.html [問卦] 與惡1把道德講得那麼崇高 自己還不是那樣\n",
            " 3/25 https://www.ptt.cc/bbs/Gossiping/M.1742891201.A.9B7.html [問卦] 100張發票才中500元該怎麼調適？\n",
            " 3/25 https://www.ptt.cc/bbs/Gossiping/M.1742889231.A.AED.html [問卦] 女T 左耳戴耳環的意思 O_o\n",
            " 3/25 https://www.ptt.cc/bbs/Gossiping/M.1742889243.A.171.html Re: [問卦]  我不認同你的觀點 但是我誓死捍衛你說\n",
            " 3/25 https://www.ptt.cc/bbs/Gossiping/M.1742889265.A.EC9.html [新聞] Andy老師現身了！挨家寧媽告2罪「受訪開\n",
            " 3/25 https://www.ptt.cc/bbs/Gossiping/M.1742889367.A.AC0.html [問卦] 天下雜誌: 政府花42億招僑生 成變相外勞\n",
            " 3/25 https://www.ptt.cc/bbs/Gossiping/M.1742889381.A.A31.html Re: [新聞] 首購悲歌！千萬元內建案行政區剩9個 專家\n",
            " 3/25 https://www.ptt.cc/bbs/Gossiping/M.1742889397.A.B53.html Re: [問卦]  我不認同你的觀點 但是我誓死捍衛你說\n",
            " 3/25 https://www.ptt.cc/bbs/Gossiping/M.1742889437.A.583.html [新聞] 台南水產直播業設「轉盤」遭控強迫消費　\n",
            " 3/25 https://www.ptt.cc/bbs/Gossiping/M.1742889581.A.183.html [新聞] 南韓首爾出現20公尺深巨坑 搜救17小時尋\n",
            " 3/25 https://www.ptt.cc/bbs/Gossiping/M.1742889585.A.6D5.html [問卦] 有一說一 板上開賭盤明天她會不會離台?\n",
            " 3/25 https://www.ptt.cc/bbs/Gossiping/M.1742889643.A.08F.html Re: [問卦] 幫中配亞亞說話的都是哪一種人？\n",
            " 3/25 https://www.ptt.cc/bbs/Gossiping/M.1742889655.A.09D.html Re: [問卦] 我們與惡的距離II被目標觀眾群抵制了\n",
            " 3/25 https://www.ptt.cc/bbs/Gossiping/M.1742889858.A.FF3.html Re: [新聞] 鼓吹武統遭限期離境　陸配亞亞現身喊：\n",
            " 3/25 https://www.ptt.cc/bbs/Gossiping/M.1742889872.A.8C3.html [問卦] 公益團體的發票也很難中吧?\n",
            " 3/25 https://www.ptt.cc/bbs/Gossiping/M.1742889981.A.AF8.html [問卦] 亞亞買好機票了\n",
            " 3/25 https://www.ptt.cc/bbs/Gossiping/M.1742890026.A.A73.html [新聞] 2025全球最安全國家「台灣奪第4」　領先\n",
            " 3/25 https://www.ptt.cc/bbs/Gossiping/M.1742890038.A.5C1.html [問卦] 台灣什麼時候開始流行抄家滅族的批鬥?\n",
            " 3/25 https://www.ptt.cc/bbs/Gossiping/M.1742890112.A.F19.html Re: [問卦]  我不認同你的觀點 但是我誓死捍衛你說\n",
            " 3/25 https://www.ptt.cc/bbs/Gossiping/M.1742890117.A.E1C.html [問卦] 那些幾年前幫烏克蘭打仗的台籍志願軍\n",
            " 3/25 https://www.ptt.cc/bbs/Gossiping/M.1742890181.A.4E8.html [新聞] 亂丟菸蒂還打人！日本1神社不忍了　宣布\n",
            " 3/25 https://www.ptt.cc/bbs/Gossiping/M.1742890244.A.37C.html [爆卦] 發錢 車禍鑑定遇到超硬背景的該怎麼辦\n",
            " 3/25 https://www.ptt.cc/bbs/Gossiping/M.1742888538.A.01C.html [新聞] 台灣遠見民調：6成4不信任美國創新高\n",
            " 3/25 https://www.ptt.cc/bbs/Gossiping/M.1742888557.A.76A.html [問卦] 乾0涼發票連槓快一年是正常的嗎?\n",
            " 3/25 https://www.ptt.cc/bbs/Gossiping/M.1742888576.A.B77.html Re: [問卦]  我不認同你的觀點 但是我誓死捍衛你說\n",
            " 3/25 https://www.ptt.cc/bbs/Gossiping/M.1742888602.A.455.html [新聞] 游智彬立院採訪證沒了！范雲揭申請單位真\n",
            " 3/25 https://www.ptt.cc/bbs/Gossiping/M.1742888628.A.DB0.html [問卦] 到軍營借廁所結果被趕走怎麼辦\n",
            " 3/25 https://www.ptt.cc/bbs/Gossiping/M.1742888668.A.32B.html [新聞] 綠：反對鼓吹中國侵略台灣行為 必須請亞\n",
            " 3/25 https://www.ptt.cc/bbs/Gossiping/M.1742888670.A.4B9.html [問卦] 發票中一張1000元要怎麼慶祝\n",
            " 3/25 https://www.ptt.cc/bbs/Gossiping/M.1742888747.A.0FB.html [問卦] 無能+貪污+自大=滅國？\n",
            " 3/25 https://www.ptt.cc/bbs/Gossiping/M.1742888754.A.013.html [問卦] 亞亞卡卡怎麼辦\n",
            " 3/25 https://www.ptt.cc/bbs/Gossiping/M.1742888778.A.35A.html [問卦] =.= 女生說不想工作我覺得很扣分正常嗎\n",
            " 3/25 https://www.ptt.cc/bbs/Gossiping/M.1742888809.A.239.html [新聞] 亞亞稱離台恐陷「萬劫不復的深淵」 中\n",
            " 3/25 https://www.ptt.cc/bbs/Gossiping/M.1742888834.A.B99.html [新聞] 不只電費高…童子賢嘆：電力效率不彰 竟\n",
            " 3/25 https://www.ptt.cc/bbs/Gossiping/M.1742888879.A.3AF.html [問卦] 幹 兩個月一次的發財夢又破碎了\n",
            " 3/25 https://www.ptt.cc/bbs/Gossiping/M.1742888925.A.094.html Re: [問卦]  我不認同你的觀點 但是我誓死捍衛你說\n",
            " 3/25 https://www.ptt.cc/bbs/Gossiping/M.1742888949.A.E12.html [問卦] 不會讀書的女生都念什麼大學科系？\n",
            " 3/25 https://www.ptt.cc/bbs/Gossiping/M.1742889170.A.F00.html [新聞] 陳水扁赴郭瑤琪靈堂弔唁　陳致中：含冤\n",
            " 3/25 https://www.ptt.cc/bbs/Gossiping/M.1742889183.A.3B4.html [新聞] 海巡前偵查員造假筆錄幫人賺檢舉獎金 雄\n",
            " 3/25 https://www.ptt.cc/bbs/Gossiping/M.1742889192.A.1F2.html Re: [新聞] 綠：反對鼓吹中國侵略台灣行為 必須請亞\n",
            " 3/25 https://www.ptt.cc/bbs/Gossiping/M.1742889215.A.C46.html Re: [問卦] 不會讀書的女生都念什麼大學科系？\n",
            " 3/25 https://www.ptt.cc/bbs/Gossiping/M.1742889221.A.437.html [問卦] 現代社會有剝奪國籍這種東西嗎?\n",
            " 3/25 https://www.ptt.cc/bbs/Gossiping/M.1742887615.A.9D3.html [問卦] 言論自由最輝煌的年代是2008~2016年\n",
            " 3/25 https://www.ptt.cc/bbs/Gossiping/M.1742887674.A.4E5.html [問卦] 明英宗，算是昏庸的很剛好嗎？\n",
            " 3/25 https://www.ptt.cc/bbs/Gossiping/M.1742887688.A.917.html Re: [新聞] 離台倒數！亞亞拒絕出境　移民署將強制\n",
            " 3/25 https://www.ptt.cc/bbs/Gossiping/M.1742887694.A.3A5.html Re: [問卦]  我不認同你的觀點 但是我誓死捍衛你說\n",
            " 3/25 https://www.ptt.cc/bbs/Gossiping/M.1742887707.A.EB3.html [問卦] 大家好奇的台灣小薇現況~~~\n",
            " 3/25 https://www.ptt.cc/bbs/Gossiping/M.1742887715.A.400.html Re: [問卦] 劍湖山484快不行了？\n",
            " 3/25 https://www.ptt.cc/bbs/Gossiping/M.1742887718.A.638.html [問卦] 沒中發票選一個怪要怪誰？\n",
            " 3/25 https://www.ptt.cc/bbs/Gossiping/M.1742887724.A.F77.html Re: [問卦] 台灣看獸醫很貴的八卦??\n",
            " 3/25 https://www.ptt.cc/bbs/Gossiping/M.1742887729.A.2FD.html [問卦] 肥肥的韓妞你真的可以嗎？\n",
            " 3/25 https://www.ptt.cc/bbs/Gossiping/M.1742887825.A.6B4.html Re: [問卦] 華爾街日報：中國準備封鎖台灣？\n",
            " 3/25 https://www.ptt.cc/bbs/Gossiping/M.1742888076.A.E0D.html Re: [問卦]  我不認同你的觀點 但是我誓死捍衛你說\n",
            " 3/25 https://www.ptt.cc/bbs/Gossiping/M.1742888164.A.0DE.html Re: [問卦] 言論自由最輝煌的年代是2008~2016年\n",
            " 3/25 https://www.ptt.cc/bbs/Gossiping/M.1742888168.A.C7A.html [問卦] 什麼叫做鼓吹戰爭啊?\n",
            " 3/25 https://www.ptt.cc/bbs/Gossiping/M.1742888184.A.3A6.html Re: [問卦]  我不認同你的觀點 但是我誓死捍衛你說\n",
            " 3/25 https://www.ptt.cc/bbs/Gossiping/M.1742888266.A.0CE.html [問卦] 每期都超過100張發票都沒中，你真的OK？\n",
            " 3/25 https://www.ptt.cc/bbs/Gossiping/M.1742888349.A.C5A.html [問卦] 所以亞亞是來自深淵嗎？\n",
            " 3/25 https://www.ptt.cc/bbs/Gossiping/M.1742888408.A.397.html [問卦] 今天高溫31度\n",
            " 3/25 https://www.ptt.cc/bbs/Gossiping/M.1742888437.A.E1A.html [問卦] 美國人：派軍機轟炸台積電算言論自由嗎\n",
            " 3/25 https://www.ptt.cc/bbs/Gossiping/M.1742888477.A.E23.html Re: [問卦]  我不認同你的觀點 但是我誓死捍衛你說\n",
            " 3/25 https://www.ptt.cc/bbs/Gossiping/M.1742888485.A.656.html [新聞] 護理師怨薪水比「鼎泰豐洗碗工」還低！\n"
          ]
        }
      ]
    }
  ]
}