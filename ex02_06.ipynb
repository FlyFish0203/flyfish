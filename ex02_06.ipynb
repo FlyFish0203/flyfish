{
  "nbformat": 4,
  "nbformat_minor": 0,
  "metadata": {
    "colab": {
      "provenance": [],
      "authorship_tag": "ABX9TyN0lztaWqSOFT/5PhAifott",
      "include_colab_link": true
    },
    "kernelspec": {
      "name": "python3",
      "display_name": "Python 3"
    },
    "language_info": {
      "name": "python"
    }
  },
  "cells": [
    {
      "cell_type": "markdown",
      "metadata": {
        "id": "view-in-github",
        "colab_type": "text"
      },
      "source": [
        "<a href=\"https://colab.research.google.com/github/FlyFish0203/flyfish/blob/main/ex02_06.ipynb\" target=\"_parent\"><img src=\"https://colab.research.google.com/assets/colab-badge.svg\" alt=\"Open In Colab\"/></a>"
      ]
    },
    {
      "cell_type": "code",
      "execution_count": 3,
      "metadata": {
        "colab": {
          "base_uri": "https://localhost:8080/"
        },
        "id": "HVnEeaB3cCyL",
        "outputId": "44cc83b0-9542-4627-e146-d3e0fa652437"
      },
      "outputs": [
        {
          "output_type": "execute_result",
          "data": {
            "text/plain": [
              "<title>開眼電影網首頁--近期上映--</title>"
            ]
          },
          "metadata": {},
          "execution_count": 3
        }
      ],
      "source": [
        "import requests\n",
        "from bs4 import BeautifulSoup\n",
        "\n",
        "url='https://www.atmovies.com.tw/movie/next/'\n",
        "html=requests.get(url)\n",
        "html.encoding='utf-8'\n",
        "soup=BeautifulSoup(html.text, 'lxml')\n",
        "soup.title"
      ]
    },
    {
      "cell_type": "code",
      "source": [
        "import os\n",
        "import csv\n",
        "\n",
        "if not os.path.exists('/content/movies'):\n",
        "    os.mkdir('/content/movies')\n",
        "\n",
        "movies=[ ['電影','上映日期'] ]\n",
        "\n",
        "for mv in soup.find('ul',class_='filmListAllX').find_all('li'):\n",
        "  ttl=mv.img['alt']\n",
        "  src=mv.img['src'].strip()\n",
        "  dat=mv.find('div',class_='runtime').text\n",
        "  dat=dat[5:15]\n",
        "  movies.append([ttl,dat])\n",
        "  print(ttl,dat,src)\n",
        "  #!wget -0/content/movies2/{ttl}.jpg{src}\n",
        "  response=requests.get(src)\n",
        "  with open(f'/content/movies/{ttl}.jpg','wb') as f:\n",
        "    f.write(response.content)\n",
        "\n",
        "with open('/content/movies/movies.csv','w',newline='') as f:\n",
        "  writer=csv.writer(f)\n",
        "  writer.writerows(movies)\n",
        ""
      ],
      "metadata": {
        "colab": {
          "base_uri": "https://localhost:8080/"
        },
        "id": "BRN4hRAQc9rI",
        "outputId": "7efe7aa8-52f2-4865-e444-1eccb60147e5"
      },
      "execution_count": null,
      "outputs": [
        {
          "output_type": "stream",
          "name": "stdout",
          "text": [
            "我依然在此 2025/04/02 http://www.atmovies.com.tw/photo101/fipt14961016/pl_fipt14961016_0002.jpg\n",
            "MINECRAFT麥塊電影 2025/04/02 http://www.atmovies.com.tw/photo101/faen83566834/pl_faen83566834_0005.jpg\n",
            "會計師 2 2025/04/24 http://www.atmovies.com.tw/photo101/faen47068946/pl_faen47068946_0001.jpg\n",
            "直到黎明 2025/04/25 http://www.atmovies.com.tw/photo101/fuen30955489/pl_fuen30955489_0001.jpg\n",
            "黑袋行動 2025/04/30 http://www.atmovies.com.tw/photo101/fben30988739/pl_fben30988739_0001.jpg\n",
            "雷霆特攻隊* 2025/04/30 http://www.atmovies.com.tw/photo101/ften20969586/pl_ften20969586_0005.jpg\n",
            "不可能的任務：最終清算 2025/05/23 http://www.atmovies.com.tw/photo101/fmen62168299/pl_fmen62168299_0003.jpg\n",
            "馴龍高手 2025/06/11 http://www.atmovies.com.tw/photo101/fhen26743210/pl_fhen26743210_0001.jpg\n",
            "天作之合 2025/06/13 http://www.atmovies.com.tw/photo101/fmen30253473/pl_fmen30253473_0001.jpg\n",
            "28年毀滅倒數 2025/06/18 http://www.atmovies.com.tw/photo101/fyen10548174/pl_fyen10548174_0001.jpg\n",
            "名偵探柯南：獨眼的殘像 2025/06/25 http://www.atmovies.com.tw/photo101/fdjp35891502/pl_fdjp35891502_0001.jpg\n",
            "F1® 2025/06/26 http://www.atmovies.com.tw/photo101/ffen16311594/pl_ffen16311594_0001.jpg\n",
            "窒友梅根 2.0 2025/06/27 http://www.atmovies.com.tw/photo101/fmen26342662/pl_fmen26342662_0001.jpg\n"
          ]
        }
      ]
    }
  ]
}