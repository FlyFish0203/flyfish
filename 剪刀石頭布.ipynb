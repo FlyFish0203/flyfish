{
  "nbformat": 4,
  "nbformat_minor": 0,
  "metadata": {
    "colab": {
      "provenance": [],
      "authorship_tag": "ABX9TyP6Lk13gSxnb9s1i1i22uC7",
      "include_colab_link": true
    },
    "kernelspec": {
      "name": "python3",
      "display_name": "Python 3"
    },
    "language_info": {
      "name": "python"
    }
  },
  "cells": [
    {
      "cell_type": "markdown",
      "metadata": {
        "id": "view-in-github",
        "colab_type": "text"
      },
      "source": [
        "<a href=\"https://colab.research.google.com/github/FlyFish0203/flyfish/blob/main/%E5%89%AA%E5%88%80%E7%9F%B3%E9%A0%AD%E5%B8%83.ipynb\" target=\"_parent\"><img src=\"https://colab.research.google.com/assets/colab-badge.svg\" alt=\"Open In Colab\"/></a>"
      ]
    },
    {
      "cell_type": "code",
      "execution_count": null,
      "metadata": {
        "id": "_DFLp_lnNpA9"
      },
      "outputs": [],
      "source": [
        "import random\n",
        "\n",
        "ply=int(input())\n",
        "cmp=random.chice([0,2,5])\n",
        "print('computer:',cmp)\n",
        "if ply==cmp:\n",
        "  print('draw')\n",
        "elif(ply==0 and cmp==2) or (ply==2 and cmp==5) or (ply==5 and cmp==0):\n",
        "  print('you win')\n",
        "else:\n",
        "  print('you lose')\n"
      ]
    }
  ]
}