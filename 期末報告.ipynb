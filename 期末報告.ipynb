{
  "nbformat": 4,
  "nbformat_minor": 0,
  "metadata": {
    "colab": {
      "provenance": [],
      "authorship_tag": "ABX9TyOSa6qqLvipKAJLeH65ugzT",
      "include_colab_link": true
    },
    "kernelspec": {
      "name": "python3",
      "display_name": "Python 3"
    },
    "language_info": {
      "name": "python"
    }
  },
  "cells": [
    {
      "cell_type": "markdown",
      "metadata": {
        "id": "view-in-github",
        "colab_type": "text"
      },
      "source": [
        "<a href=\"https://colab.research.google.com/github/FlyFish0203/flyfish/blob/main/%E6%9C%9F%E6%9C%AB%E5%A0%B1%E5%91%8A.ipynb\" target=\"_parent\"><img src=\"https://colab.research.google.com/assets/colab-badge.svg\" alt=\"Open In Colab\"/></a>"
      ]
    },
    {
      "cell_type": "markdown",
      "source": [
        "#**題目**\n",
        "**line機器人生成小短文**\n",
        "\n",
        "##**引言**##\n",
        "因為有時候會需要用到講故事的部分，但又很臨時，可能是不同的廠景與人物，因此希望可以利用主角特徵，來生成一篇關於她的小故事。"
      ],
      "metadata": {
        "id": "0jt2y-9VeQtu"
      }
    },
    {
      "cell_type": "markdown",
      "source": [
        "#**特色**\n",
        "- 利用一段文字可以變成一篇短文\n",
        "- 可以根據形容詞來去修正這篇短文的風格"
      ],
      "metadata": {
        "id": "TEnfrVEEeQ45"
      }
    },
    {
      "cell_type": "code",
      "execution_count": 18,
      "metadata": {
        "id": "i8e20i-weONp"
      },
      "outputs": [],
      "source": [
        "!pip install -q flask line-bot-sdk openai google-generativeai pyngrok flask_ngrok"
      ]
    },
    {
      "cell_type": "code",
      "source": [
        "# ✅ 匯入套件\n",
        "from flask import Flask, request, abort\n",
        "from flask_ngrok import run_with_ngrok\n",
        "from pyngrok import ngrok\n",
        "from google.colab import userdata\n",
        "import google.generativeai as genai\n",
        "\n",
        "from linebot.v3 import WebhookHandler\n",
        "from linebot.v3.exceptions import InvalidSignatureError\n",
        "from linebot.v3.webhooks import MessageEvent, TextMessageContent\n",
        "from linebot.v3.messaging import (\n",
        "    Configuration, ApiClient, MessagingApi,\n",
        "    ReplyMessageRequest, TextMessage\n",
        ")\n"
      ],
      "metadata": {
        "id": "1Y92_TwxRzR3"
      },
      "execution_count": 19,
      "outputs": []
    },
    {
      "cell_type": "code",
      "source": [
        "# ✅ 設定 Gemini API\n",
        "genai.configure(api_key=userdata.get('GOOGLE_API_KEY'))\n",
        "model = genai.GenerativeModel('gemini-2.0-flash')\n",
        "\n",
        "# ✅ 啟動 Flask + Ngrok\n",
        "app = Flask(__name__)\n",
        "run_with_ngrok(app)\n",
        "\n",
        "# ✅ LINE Bot 設定\n",
        "configuration = Configuration(access_token=userdata.get('LINE_CHANNEL_ACCESS_TOKEN'))\n",
        "handler = WebhookHandler(userdata.get('LINE_CHANNEL_SECRET'))\n"
      ],
      "metadata": {
        "id": "MSluj9LASCos"
      },
      "execution_count": 20,
      "outputs": []
    },
    {
      "cell_type": "code",
      "source": [
        "def ask_gemini_to_write_story(user_text):\n",
        "    # 可支援的標籤與對應風格描述\n",
        "    styles = {\n",
        "        \"#搞笑\": \"用幽默搞笑的風格\",\n",
        "        \"#浪漫\": \"用浪漫抒情的風格\",\n",
        "        \"#驚悚\": \"用驚悚懸疑的風格\",\n",
        "        \"#童話\": \"用童話故事的語氣\",\n",
        "    }\n",
        "\n",
        "    # 預設風格\n",
        "    selected_style = \"用文學敘事的方式\"\n",
        "\n",
        "    # 檢查有無風格標籤\n",
        "    for tag, style in styles.items():\n",
        "        if tag in user_text:\n",
        "            selected_style = style\n",
        "            user_text = user_text.replace(tag, \"\").strip()\n",
        "\n",
        "    # 提交給 Gemini 的 prompt\n",
        "    prompt = f\"{selected_style}，根據以下主題創作一篇約150字的小故事：{user_text}\"\n",
        "\n",
        "    # 呼叫 Gemini API\n",
        "    response = model.generate_content(prompt)\n",
        "    return response.text\n"
      ],
      "metadata": {
        "id": "GjmAakkEUGKI"
      },
      "execution_count": 21,
      "outputs": []
    },
    {
      "cell_type": "code",
      "source": [
        "@app.route(\"/callback\", methods=['POST'])\n",
        "def callback():\n",
        "    signature = request.headers['X-Line-Signature']\n",
        "    body = request.get_data(as_text=True)\n",
        "    try:\n",
        "        handler.handle(body, signature)\n",
        "    except InvalidSignatureError:\n",
        "        abort(400)\n",
        "    return 'OK'\n",
        "\n",
        "\n",
        "@handler.add(MessageEvent, message=TextMessageContent)\n",
        "def handle_message(event):\n",
        "    user_input = event.message.text\n",
        "    story = ask_gemini_to_write_story(user_input)\n",
        "\n",
        "    with ApiClient(configuration) as api_client:\n",
        "        line_bot_api = MessagingApi(api_client)\n",
        "        line_bot_api.reply_message(\n",
        "            ReplyMessageRequest(\n",
        "                reply_token=event.reply_token,\n",
        "                messages=[TextMessage(text=story)]\n",
        "            )\n",
        "        )\n"
      ],
      "metadata": {
        "id": "wGM1Zn4zUHed"
      },
      "execution_count": 22,
      "outputs": []
    },
    {
      "cell_type": "code",
      "source": [
        "ngrok_start()\n",
        "if __name__=='__main__':\n",
        "  app.run()\n"
      ],
      "metadata": {
        "colab": {
          "base_uri": "https://localhost:8080/",
          "height": 225
        },
        "id": "vD9jgD_MUIm1",
        "outputId": "ec18ca60-09fe-4171-db05-0c205b8c39b9"
      },
      "execution_count": 24,
      "outputs": [
        {
          "output_type": "stream",
          "name": "stdout",
          "text": [
            " * Serving Flask app '__main__'\n",
            " * Debug mode: off\n"
          ]
        },
        {
          "output_type": "stream",
          "name": "stderr",
          "text": [
            "INFO:werkzeug:\u001b[31m\u001b[1mWARNING: This is a development server. Do not use it in a production deployment. Use a production WSGI server instead.\u001b[0m\n",
            " * Running on http://127.0.0.1:5000\n",
            "INFO:werkzeug:\u001b[33mPress CTRL+C to quit\u001b[0m\n"
          ]
        },
        {
          "output_type": "stream",
          "name": "stdout",
          "text": [
            " * Running on http://bffd-34-16-247-218.ngrok-free.app\n",
            " * Traffic stats available on http://127.0.0.1:4040\n",
            " * Running on http://bffd-34-16-247-218.ngrok-free.app\n",
            " * Traffic stats available on http://127.0.0.1:4040\n"
          ]
        },
        {
          "output_type": "stream",
          "name": "stderr",
          "text": [
            "INFO:werkzeug:127.0.0.1 - - [17/Jun/2025 14:35:39] \"\u001b[33mGET / HTTP/1.1\u001b[0m\" 404 -\n",
            "INFO:werkzeug:127.0.0.1 - - [17/Jun/2025 14:35:39] \"\u001b[33mGET /favicon.ico HTTP/1.1\u001b[0m\" 404 -\n",
            "INFO:werkzeug:127.0.0.1 - - [17/Jun/2025 14:36:19] \"POST /callback HTTP/1.1\" 200 -\n"
          ]
        }
      ]
    },
    {
      "cell_type": "code",
      "source": [],
      "metadata": {
        "id": "LDPFGvUxUKhZ"
      },
      "execution_count": null,
      "outputs": []
    }
  ]
}